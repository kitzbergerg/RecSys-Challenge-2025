{
 "cells": [
  {
   "cell_type": "markdown",
   "id": "74c18ffe-345c-4479-95ea-a86edd1b5a87",
   "metadata": {},
   "source": [
    "## Create embeddings"
   ]
  },
  {
   "cell_type": "code",
   "execution_count": 4,
   "id": "2cb0c56e-d91f-4a6e-be14-4e6be69a8c1d",
   "metadata": {
    "scrolled": true
   },
   "outputs": [
    {
     "name": "stdout",
     "output_type": "stream",
     "text": [
      "ERROR: ld.so: object '/opt/conda/lib/libmkl_def.so' from LD_PRELOAD cannot be preloaded (cannot open shared object file): ignored.\n",
      "ERROR: ld.so: object '/opt/conda/lib/libmkl_avx2.so' from LD_PRELOAD cannot be preloaded (cannot open shared object file): ignored.\n",
      "ERROR: ld.so: object '/opt/conda/lib/libmkl_core.so' from LD_PRELOAD cannot be preloaded (cannot open shared object file): ignored.\n",
      "ERROR: ld.so: object '/opt/conda/lib/libmkl_intel_lp64.so' from LD_PRELOAD cannot be preloaded (cannot open shared object file): ignored.\n",
      "ERROR: ld.so: object '/opt/conda/lib/libmkl_intel_thread.so' from LD_PRELOAD cannot be preloaded (cannot open shared object file): ignored.\n",
      "ERROR: ld.so: object '/opt/conda/lib/libmkl_def.so' from LD_PRELOAD cannot be preloaded (cannot open shared object file): ignored.\n",
      "ERROR: ld.so: object '/opt/conda/lib/libmkl_avx2.so' from LD_PRELOAD cannot be preloaded (cannot open shared object file): ignored.\n",
      "ERROR: ld.so: object '/opt/conda/lib/libmkl_core.so' from LD_PRELOAD cannot be preloaded (cannot open shared object file): ignored.\n",
      "ERROR: ld.so: object '/opt/conda/lib/libmkl_intel_lp64.so' from LD_PRELOAD cannot be preloaded (cannot open shared object file): ignored.\n",
      "ERROR: ld.so: object '/opt/conda/lib/libmkl_intel_thread.so' from LD_PRELOAD cannot be preloaded (cannot open shared object file): ignored.\n",
      "INFO:__main__:Generating features for product_buy event type\n",
      "INFO:__main__:Loading data...\n",
      "INFO:__main__:Generating features...\n",
      "100%|█████████████████████████████████| 416269/416269 [03:03<00:00, 2265.81it/s]\n",
      "INFO:__main__:Generating features for add_to_cart event type\n",
      "INFO:__main__:Loading data...\n",
      "INFO:__main__:Generating features...\n",
      "100%|█████████████████████████████████| 496756/496756 [03:52<00:00, 2139.75it/s]\n",
      "INFO:__main__:Generating features for remove_from_cart event type\n",
      "INFO:__main__:Loading data...\n",
      "INFO:__main__:Generating features...\n",
      "100%|█████████████████████████████████| 253428/253428 [01:56<00:00, 2167.06it/s]\n",
      "INFO:__main__:Generating features for page_visit event type\n",
      "INFO:__main__:Loading data...\n",
      "INFO:__main__:Generating features...\n",
      "100%|█████████████████████████████████| 720247/720247 [05:17<00:00, 2269.32it/s]\n",
      "INFO:__main__:Generating features for search_query event type\n",
      "INFO:__main__:Loading data...\n",
      "INFO:__main__:Generating features...\n",
      "100%|█████████████████████████████████| 247597/247597 [00:42<00:00, 5763.02it/s]\n",
      "INFO:__main__:Merging features into embeddings\n",
      "100%|███████████████████████████████| 858489/858489 [00:04<00:00, 173525.88it/s]\n",
      "INFO:__main__:Saving embeddings\n"
     ]
    }
   ],
   "source": [
    "!cd /home/jovyan/lectures/194.035-2025S/project/Group_36/Rec-Sys-Challenge-Github-Repo/ && python -m baseline.aggregated_features_baseline.create_embeddings --data-dir /home/jovyan/shared/194.035-2025S/data/group_project/data --embeddings-dir /home/jovyan/lectures/194.035-2025S/project/Group_36/embeddings"
   ]
  },
  {
   "cell_type": "markdown",
   "id": "c20e804b-cef8-423c-8483-205fdd120d2a",
   "metadata": {},
   "source": [
    "## Train Model"
   ]
  },
  {
   "cell_type": "code",
   "execution_count": 5,
   "id": "6c301369-cdeb-4ab9-97e6-4bb36088e06a",
   "metadata": {},
   "outputs": [
    {
     "name": "stdout",
     "output_type": "stream",
     "text": [
      "ERROR: ld.so: object '/opt/conda/lib/libmkl_def.so' from LD_PRELOAD cannot be preloaded (cannot open shared object file): ignored.\n",
      "ERROR: ld.so: object '/opt/conda/lib/libmkl_avx2.so' from LD_PRELOAD cannot be preloaded (cannot open shared object file): ignored.\n",
      "ERROR: ld.so: object '/opt/conda/lib/libmkl_core.so' from LD_PRELOAD cannot be preloaded (cannot open shared object file): ignored.\n",
      "ERROR: ld.so: object '/opt/conda/lib/libmkl_intel_lp64.so' from LD_PRELOAD cannot be preloaded (cannot open shared object file): ignored.\n",
      "ERROR: ld.so: object '/opt/conda/lib/libmkl_intel_thread.so' from LD_PRELOAD cannot be preloaded (cannot open shared object file): ignored.\n",
      "ERROR: ld.so: object '/opt/conda/lib/libmkl_def.so' from LD_PRELOAD cannot be preloaded (cannot open shared object file): ignored.\n",
      "ERROR: ld.so: object '/opt/conda/lib/libmkl_avx2.so' from LD_PRELOAD cannot be preloaded (cannot open shared object file): ignored.\n",
      "ERROR: ld.so: object '/opt/conda/lib/libmkl_core.so' from LD_PRELOAD cannot be preloaded (cannot open shared object file): ignored.\n",
      "ERROR: ld.so: object '/opt/conda/lib/libmkl_intel_lp64.so' from LD_PRELOAD cannot be preloaded (cannot open shared object file): ignored.\n",
      "ERROR: ld.so: object '/opt/conda/lib/libmkl_intel_thread.so' from LD_PRELOAD cannot be preloaded (cannot open shared object file): ignored.\n",
      "Collecting neptune>=1.0\n",
      "  Downloading neptune-1.14.0-py3-none-any.whl.metadata (5.0 kB)\n",
      "Requirement already satisfied: GitPython>=2.0.8 in /opt/conda/lib/python3.11/site-packages (from neptune>=1.0) (3.1.43)\n",
      "Requirement already satisfied: Pillow>=1.1.6 in /opt/conda/lib/python3.11/site-packages (from neptune>=1.0) (10.4.0)\n",
      "Requirement already satisfied: PyJWT in /opt/conda/lib/python3.11/site-packages (from neptune>=1.0) (2.9.0)\n",
      "Collecting boto3>=1.28.0 (from neptune>=1.0)\n",
      "  Downloading boto3-1.38.21-py3-none-any.whl.metadata (6.6 kB)\n",
      "Collecting bravado<12.0.0,>=11.0.0 (from neptune>=1.0)\n",
      "  Downloading bravado-11.1.0-py2.py3-none-any.whl.metadata (6.0 kB)\n",
      "Requirement already satisfied: click>=7.0 in /opt/conda/lib/python3.11/site-packages (from neptune>=1.0) (8.1.7)\n",
      "Requirement already satisfied: future>=0.17.1 in /opt/conda/lib/python3.11/site-packages (from neptune>=1.0) (1.0.0)\n",
      "Requirement already satisfied: oauthlib>=2.1.0 in /opt/conda/lib/python3.11/site-packages (from neptune>=1.0) (3.2.2)\n",
      "Requirement already satisfied: packaging in /opt/conda/lib/python3.11/site-packages (from neptune>=1.0) (24.2)\n",
      "Requirement already satisfied: pandas in /opt/conda/lib/python3.11/site-packages (from neptune>=1.0) (2.2.3)\n",
      "Requirement already satisfied: psutil in /opt/conda/lib/python3.11/site-packages (from neptune>=1.0) (5.9.8)\n",
      "Requirement already satisfied: requests>=2.20.0 in /opt/conda/lib/python3.11/site-packages (from neptune>=1.0) (2.32.3)\n",
      "Requirement already satisfied: requests-oauthlib>=1.0.0 in /opt/conda/lib/python3.11/site-packages (from neptune>=1.0) (2.0.0)\n",
      "Requirement already satisfied: six>=1.12.0 in /opt/conda/lib/python3.11/site-packages (from neptune>=1.0) (1.16.0)\n",
      "Collecting swagger-spec-validator>=2.7.4 (from neptune>=1.0)\n",
      "  Downloading swagger_spec_validator-3.0.4-py2.py3-none-any.whl.metadata (2.5 kB)\n",
      "Requirement already satisfied: typing-extensions>=3.10.0 in /opt/conda/lib/python3.11/site-packages (from neptune>=1.0) (4.12.2)\n",
      "Requirement already satisfied: urllib3 in /opt/conda/lib/python3.11/site-packages (from neptune>=1.0) (2.2.3)\n",
      "Requirement already satisfied: websocket-client!=1.0.0,>=0.35.0 in /opt/conda/lib/python3.11/site-packages (from neptune>=1.0) (1.8.0)\n",
      "Collecting botocore<1.39.0,>=1.38.21 (from boto3>=1.28.0->neptune>=1.0)\n",
      "  Downloading botocore-1.38.21-py3-none-any.whl.metadata (5.7 kB)\n",
      "Collecting jmespath<2.0.0,>=0.7.1 (from boto3>=1.28.0->neptune>=1.0)\n",
      "  Downloading jmespath-1.0.1-py3-none-any.whl.metadata (7.6 kB)\n",
      "Collecting s3transfer<0.13.0,>=0.12.0 (from boto3>=1.28.0->neptune>=1.0)\n",
      "  Downloading s3transfer-0.12.0-py3-none-any.whl.metadata (1.7 kB)\n",
      "Collecting bravado-core>=5.16.1 (from bravado<12.0.0,>=11.0.0->neptune>=1.0)\n",
      "  Downloading bravado-core-6.1.1.tar.gz (63 kB)\n",
      "  Preparing metadata (setup.py) ... \u001b[?25ldone\n",
      "\u001b[?25hCollecting monotonic (from bravado<12.0.0,>=11.0.0->neptune>=1.0)\n",
      "  Downloading monotonic-1.6-py2.py3-none-any.whl.metadata (1.5 kB)\n",
      "Requirement already satisfied: msgpack in /opt/conda/lib/python3.11/site-packages (from bravado<12.0.0,>=11.0.0->neptune>=1.0) (1.1.0)\n",
      "Requirement already satisfied: python-dateutil in /opt/conda/lib/python3.11/site-packages (from bravado<12.0.0,>=11.0.0->neptune>=1.0) (2.9.0)\n",
      "Requirement already satisfied: pyyaml in /opt/conda/lib/python3.11/site-packages (from bravado<12.0.0,>=11.0.0->neptune>=1.0) (6.0.2)\n",
      "Requirement already satisfied: simplejson in /opt/conda/lib/python3.11/site-packages (from bravado<12.0.0,>=11.0.0->neptune>=1.0) (3.20.1)\n",
      "Requirement already satisfied: gitdb<5,>=4.0.1 in /opt/conda/lib/python3.11/site-packages (from GitPython>=2.0.8->neptune>=1.0) (4.0.11)\n",
      "Requirement already satisfied: charset-normalizer<4,>=2 in /opt/conda/lib/python3.11/site-packages (from requests>=2.20.0->neptune>=1.0) (3.4.0)\n",
      "Requirement already satisfied: idna<4,>=2.5 in /opt/conda/lib/python3.11/site-packages (from requests>=2.20.0->neptune>=1.0) (3.10)\n",
      "Requirement already satisfied: certifi>=2017.4.17 in /opt/conda/lib/python3.11/site-packages (from requests>=2.20.0->neptune>=1.0) (2025.1.31)\n",
      "Requirement already satisfied: jsonschema in /opt/conda/lib/python3.11/site-packages (from swagger-spec-validator>=2.7.4->neptune>=1.0) (4.23.0)\n",
      "Requirement already satisfied: importlib-resources>=1.3 in /opt/conda/lib/python3.11/site-packages (from swagger-spec-validator>=2.7.4->neptune>=1.0) (6.4.5)\n",
      "Requirement already satisfied: numpy>=1.23.2 in /opt/conda/lib/python3.11/site-packages (from pandas->neptune>=1.0) (1.26.4)\n",
      "Requirement already satisfied: pytz>=2020.1 in /opt/conda/lib/python3.11/site-packages (from pandas->neptune>=1.0) (2024.1)\n",
      "Requirement already satisfied: tzdata>=2022.7 in /opt/conda/lib/python3.11/site-packages (from pandas->neptune>=1.0) (2025.2)\n",
      "Collecting jsonref (from bravado-core>=5.16.1->bravado<12.0.0,>=11.0.0->neptune>=1.0)\n",
      "  Downloading jsonref-1.1.0-py3-none-any.whl.metadata (2.7 kB)\n",
      "Requirement already satisfied: smmap<6,>=3.0.1 in /opt/conda/lib/python3.11/site-packages (from gitdb<5,>=4.0.1->GitPython>=2.0.8->neptune>=1.0) (5.0.0)\n",
      "Requirement already satisfied: attrs>=22.2.0 in /opt/conda/lib/python3.11/site-packages (from jsonschema->swagger-spec-validator>=2.7.4->neptune>=1.0) (24.2.0)\n",
      "Requirement already satisfied: jsonschema-specifications>=2023.03.6 in /opt/conda/lib/python3.11/site-packages (from jsonschema->swagger-spec-validator>=2.7.4->neptune>=1.0) (2024.10.1)\n",
      "Requirement already satisfied: referencing>=0.28.4 in /opt/conda/lib/python3.11/site-packages (from jsonschema->swagger-spec-validator>=2.7.4->neptune>=1.0) (0.35.1)\n",
      "Requirement already satisfied: rpds-py>=0.7.1 in /opt/conda/lib/python3.11/site-packages (from jsonschema->swagger-spec-validator>=2.7.4->neptune>=1.0) (0.20.0)\n",
      "Requirement already satisfied: fqdn in /opt/conda/lib/python3.11/site-packages (from jsonschema[format-nongpl]>=2.5.1->bravado-core>=5.16.1->bravado<12.0.0,>=11.0.0->neptune>=1.0) (1.5.1)\n",
      "Requirement already satisfied: isoduration in /opt/conda/lib/python3.11/site-packages (from jsonschema[format-nongpl]>=2.5.1->bravado-core>=5.16.1->bravado<12.0.0,>=11.0.0->neptune>=1.0) (20.11.0)\n",
      "Requirement already satisfied: jsonpointer>1.13 in /opt/conda/lib/python3.11/site-packages (from jsonschema[format-nongpl]>=2.5.1->bravado-core>=5.16.1->bravado<12.0.0,>=11.0.0->neptune>=1.0) (3.0.0)\n",
      "Requirement already satisfied: rfc3339-validator in /opt/conda/lib/python3.11/site-packages (from jsonschema[format-nongpl]>=2.5.1->bravado-core>=5.16.1->bravado<12.0.0,>=11.0.0->neptune>=1.0) (0.1.4)\n",
      "Requirement already satisfied: rfc3986-validator>0.1.0 in /opt/conda/lib/python3.11/site-packages (from jsonschema[format-nongpl]>=2.5.1->bravado-core>=5.16.1->bravado<12.0.0,>=11.0.0->neptune>=1.0) (0.1.1)\n",
      "Requirement already satisfied: uri-template in /opt/conda/lib/python3.11/site-packages (from jsonschema[format-nongpl]>=2.5.1->bravado-core>=5.16.1->bravado<12.0.0,>=11.0.0->neptune>=1.0) (1.3.0)\n",
      "Requirement already satisfied: webcolors>=24.6.0 in /opt/conda/lib/python3.11/site-packages (from jsonschema[format-nongpl]>=2.5.1->bravado-core>=5.16.1->bravado<12.0.0,>=11.0.0->neptune>=1.0) (24.8.0)\n",
      "Requirement already satisfied: arrow>=0.15.0 in /opt/conda/lib/python3.11/site-packages (from isoduration->jsonschema[format-nongpl]>=2.5.1->bravado-core>=5.16.1->bravado<12.0.0,>=11.0.0->neptune>=1.0) (1.3.0)\n",
      "Requirement already satisfied: types-python-dateutil>=2.8.10 in /opt/conda/lib/python3.11/site-packages (from arrow>=0.15.0->isoduration->jsonschema[format-nongpl]>=2.5.1->bravado-core>=5.16.1->bravado<12.0.0,>=11.0.0->neptune>=1.0) (2.9.0.20241003)\n",
      "Downloading neptune-1.14.0-py3-none-any.whl (487 kB)\n",
      "Downloading boto3-1.38.21-py3-none-any.whl (139 kB)\n",
      "Downloading bravado-11.1.0-py2.py3-none-any.whl (37 kB)\n",
      "Downloading swagger_spec_validator-3.0.4-py2.py3-none-any.whl (28 kB)\n",
      "Downloading botocore-1.38.21-py3-none-any.whl (13.6 MB)\n",
      "\u001b[2K   \u001b[90m━━━━━━━━━━━━━━━━━━━━━━━━━━━━━━━━━━━━━━━━\u001b[0m \u001b[32m13.6/13.6 MB\u001b[0m \u001b[31m118.8 MB/s\u001b[0m eta \u001b[36m0:00:00\u001b[0m\n",
      "\u001b[?25hDownloading jmespath-1.0.1-py3-none-any.whl (20 kB)\n",
      "Downloading s3transfer-0.12.0-py3-none-any.whl (84 kB)\n",
      "Downloading monotonic-1.6-py2.py3-none-any.whl (8.2 kB)\n",
      "Downloading jsonref-1.1.0-py3-none-any.whl (9.4 kB)\n",
      "Building wheels for collected packages: bravado-core\n",
      "  Building wheel for bravado-core (setup.py) ... \u001b[?25ldone\n",
      "\u001b[?25h  Created wheel for bravado-core: filename=bravado_core-6.1.1-py2.py3-none-any.whl size=67675 sha256=4abbf570cf2bfcdab5ae4ee98aba190a5e8743b924a58c83b09cbb2681a7feeb\n",
      "  Stored in directory: /home/jovyan/.cache/pip/wheels/cf/d7/1c/1d707a21e0a0323bdbfbb2f6de125ae6bb70d62aa2838df321\n",
      "Successfully built bravado-core\n",
      "Installing collected packages: monotonic, jsonref, jmespath, botocore, s3transfer, swagger-spec-validator, boto3, bravado-core, bravado, neptune\n",
      "Successfully installed boto3-1.38.21 botocore-1.38.21 bravado-11.1.0 bravado-core-6.1.1 jmespath-1.0.1 jsonref-1.1.0 monotonic-1.6 neptune-1.14.0 s3transfer-0.12.0 swagger-spec-validator-3.0.4\n"
     ]
    }
   ],
   "source": [
    "!pip install -U 'neptune>=1.0'"
   ]
  },
  {
   "cell_type": "code",
   "execution_count": null,
   "id": "f3104816-3e38-40f2-be94-9e9bebd6fc03",
   "metadata": {},
   "outputs": [],
   "source": [
    "python -m training_pipeline.train --data-dir /home/jovyan/shared/194.035-2025S/data/group_project/data --embeddings-dir /home/jovyan/groups/194.035-2025S/Group_36/Group_36/embeddings --tasks churn propensity_category propensity_sku --log-name exp_20250401 --accelerator gpu --devices auto --disable-relevant-clients\n",
    "-check --score-dir /home/jovyan/lectures/194.035-2025S/project/Group_36/scores --neptune-project /home/jovyan/lectures/194.035-2025S/project/Group_36/neptune"
   ]
  },
  {
   "cell_type": "markdown",
   "id": "69894ceb-ea2e-477e-803d-2f1fd7784964",
   "metadata": {},
   "source": [
    "## Train a model for fixed embeddings"
   ]
  },
  {
   "cell_type": "markdown",
   "id": "91de7631-6ef7-49d5-9545-47b381cc329e",
   "metadata": {},
   "source": [
    "### The below command takes ages when executed from the jupyternotebook. However, it takes significantly less time if executed from terminal"
   ]
  },
  {
   "cell_type": "code",
   "execution_count": null,
   "id": "1e45d0d1-a386-4a1b-b91f-a59c061a2881",
   "metadata": {},
   "outputs": [],
   "source": [
    "!cd /home/jovyan/lectures/194.035-2025S/project/Group_36/Rec-Sys-Challenge-Github-Repo/ && python -m training_pipeline.train --data-dir /home/jovyan/shared/194.035-2025S/data/group_project/data --embeddings-dir /home/jovyan/lectures/194.035-2025S/project/Group_36/embeddings --tasks churn propensity_category propensity_sku --log-name exp_20250401 --accelerator gpu --devices auto --disable-relevant-clients-check --score-dir /home/jovyan/lectures/194.035-2025S/project/Group_36/scores --neptune-project /home/jovyan/lectures/194.035-2025S/project/Group_36/neptune"
   ]
  },
  {
   "cell_type": "code",
   "execution_count": null,
   "id": "59894a35-fde3-48de-b1c5-06fdc2a30b37",
   "metadata": {},
   "outputs": [],
   "source": []
  }
 ],
 "metadata": {
  "kernelspec": {
   "display_name": "Python 3",
   "language": "python",
   "name": "python3"
  },
  "language_info": {
   "codemirror_mode": {
    "name": "ipython",
    "version": 3
   },
   "file_extension": ".py",
   "mimetype": "text/x-python",
   "name": "python",
   "nbconvert_exporter": "python",
   "pygments_lexer": "ipython3",
   "version": "3.11.10"
  }
 },
 "nbformat": 4,
 "nbformat_minor": 5
}
