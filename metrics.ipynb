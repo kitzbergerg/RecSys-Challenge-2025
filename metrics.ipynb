{
 "cells": [
  {
   "metadata": {},
   "cell_type": "code",
   "outputs": [],
   "execution_count": null,
   "source": [
    "!set -e\n",
    "\n",
    "!echo \"Creating Python virtual environment...\"\n",
    "!python3 -m venv venv\n",
    "!source venv/bin/activate\n",
    "\n",
    "!echo \"Upgrading pip...\"\n",
    "!pip install --upgrade pip\n",
    "\n",
    "!echo \"Installing dependencies from requirements.txt...\"\n",
    "!pip install -r requirements.txt"
   ],
   "id": "fd0fb52c8e0b8429"
  },
  {
   "metadata": {},
   "cell_type": "code",
   "outputs": [],
   "execution_count": null,
   "source": "cd Rec-Sys-Challenge-Github-Repo",
   "id": "1e0479c98864e95e"
  },
  {
   "metadata": {},
   "cell_type": "code",
   "outputs": [],
   "execution_count": null,
   "source": "!python -m training_pipeline.train --data-dir /home/jovyan/shared/194.035-2025S/data/group_project/data --embeddings-dir ../embeddings_split --tasks churn propensity_category propensity_sku --log-name exp_20250401 --accelerator gpu --devices auto --disable-relevant-clients-check --score-dir ../scores --neptune-project /home/jovyan/groups/194.035-2025S/Group_36/Group_36/neptune",
   "id": "1d79a0c38860e0c2"
  },
  {
   "metadata": {},
   "cell_type": "code",
   "outputs": [],
   "execution_count": null,
   "source": "",
   "id": "4c5e854db7b33c1"
  },
  {
   "metadata": {},
   "cell_type": "code",
   "outputs": [],
   "execution_count": null,
   "source": "",
   "id": "89a696f5f2e7d117"
  }
 ],
 "metadata": {},
 "nbformat": 4,
 "nbformat_minor": 5
}
