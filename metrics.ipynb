{
 "cells": [
  {
   "cell_type": "code",
   "execution_count": null,
   "id": "fd0fb52c8e0b8429",
   "metadata": {},
   "outputs": [],
   "source": [
    "!set -e\n",
    "\n",
    "!echo \"Creating Python virtual environment...\"\n",
    "!python3 -m venv venv\n",
    "!source venv/bin/activate\n",
    "\n",
    "!echo \"Upgrading pip...\"\n",
    "!pip install --upgrade pip\n",
    "\n",
    "!echo \"Installing dependencies from requirements.txt...\"\n",
    "!pip install -r requirements.txt"
   ]
  },
  {
   "cell_type": "code",
   "execution_count": null,
   "id": "1e0479c98864e95e",
   "metadata": {},
   "outputs": [],
   "source": [
    "cd Rec-Sys-Challenge-Github-Repo"
   ]
  },
  {
   "cell_type": "code",
   "execution_count": null,
   "id": "1d79a0c38860e0c2",
   "metadata": {},
   "outputs": [],
   "source": [
    "!python -m training_pipeline.train --data-dir /home/jovyan/shared/194.035-2025S/data/group_project/data --embeddings-dir ../embeddings_split --tasks churn propensity_category propensity_sku --log-name exp_20250401 --accelerator gpu --devices auto --disable-relevant-clients-check --score-dir ../scores --neptune-project /home/jovyan/groups/194.035-2025S/Group_36/Group_36/neptune"
   ]
  },
  {
   "cell_type": "code",
   "execution_count": null,
   "id": "4c5e854db7b33c1",
   "metadata": {},
   "outputs": [],
   "source": []
  },
  {
   "cell_type": "code",
   "execution_count": null,
   "id": "89a696f5f2e7d117",
   "metadata": {},
   "outputs": [],
   "source": []
  }
 ],
 "metadata": {
  "kernelspec": {
   "display_name": "Python 3",
   "language": "python",
   "name": "python3"
  },
  "language_info": {
   "codemirror_mode": {
    "name": "ipython",
    "version": 3
   },
   "file_extension": ".py",
   "mimetype": "text/x-python",
   "name": "python",
   "nbconvert_exporter": "python",
   "pygments_lexer": "ipython3",
   "version": "3.11.10"
  }
 },
 "nbformat": 4,
 "nbformat_minor": 5
}
