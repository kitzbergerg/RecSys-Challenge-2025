{
 "cells": [
  {
   "cell_type": "code",
   "execution_count": null,
   "id": "473fcae9",
   "metadata": {},
   "outputs": [
    {
     "name": "stdout",
     "output_type": "stream",
     "text": [
      "ERROR: ld.so: object '/opt/conda/lib/libmkl_def.so' from LD_PRELOAD cannot be preloaded (cannot open shared object file): ignored.\n",
      "ERROR: ld.so: object '/opt/conda/lib/libmkl_avx2.so' from LD_PRELOAD cannot be preloaded (cannot open shared object file): ignored.\n",
      "ERROR: ld.so: object '/opt/conda/lib/libmkl_core.so' from LD_PRELOAD cannot be preloaded (cannot open shared object file): ignored.\n",
      "ERROR: ld.so: object '/opt/conda/lib/libmkl_intel_lp64.so' from LD_PRELOAD cannot be preloaded (cannot open shared object file): ignored.\n",
      "ERROR: ld.so: object '/opt/conda/lib/libmkl_intel_thread.so' from LD_PRELOAD cannot be preloaded (cannot open shared object file): ignored.\n",
      "/home/jovyan\n"
     ]
    }
   ],
   "source": [
    "!pwd"
   ]
  },
  {
   "cell_type": "code",
   "execution_count": 27,
   "id": "226345f4",
   "metadata": {},
   "outputs": [
    {
     "name": "stdout",
     "output_type": "stream",
     "text": [
      "ERROR: ld.so: object '/opt/conda/lib/libmkl_def.so' from LD_PRELOAD cannot be preloaded (cannot open shared object file): ignored.\n",
      "ERROR: ld.so: object '/opt/conda/lib/libmkl_avx2.so' from LD_PRELOAD cannot be preloaded (cannot open shared object file): ignored.\n",
      "ERROR: ld.so: object '/opt/conda/lib/libmkl_core.so' from LD_PRELOAD cannot be preloaded (cannot open shared object file): ignored.\n",
      "ERROR: ld.so: object '/opt/conda/lib/libmkl_intel_lp64.so' from LD_PRELOAD cannot be preloaded (cannot open shared object file): ignored.\n",
      "ERROR: ld.so: object '/opt/conda/lib/libmkl_intel_thread.so' from LD_PRELOAD cannot be preloaded (cannot open shared object file): ignored.\n",
      "ERROR: ld.so: object '/opt/conda/lib/libmkl_def.so' from LD_PRELOAD cannot be preloaded (cannot open shared object file): ignored.\n",
      "ERROR: ld.so: object '/opt/conda/lib/libmkl_avx2.so' from LD_PRELOAD cannot be preloaded (cannot open shared object file): ignored.\n",
      "ERROR: ld.so: object '/opt/conda/lib/libmkl_core.so' from LD_PRELOAD cannot be preloaded (cannot open shared object file): ignored.\n",
      "ERROR: ld.so: object '/opt/conda/lib/libmkl_intel_lp64.so' from LD_PRELOAD cannot be preloaded (cannot open shared object file): ignored.\n",
      "ERROR: ld.so: object '/opt/conda/lib/libmkl_intel_thread.so' from LD_PRELOAD cannot be preloaded (cannot open shared object file): ignored.\n",
      "INFO:__main__:Generating features for product_buy event type\n",
      "INFO:__main__:Loading data...\n",
      "INFO:__main__:Generating features...\n",
      "100%|█████████████████████████████████| 416269/416269 [02:31<00:00, 2748.05it/s]\n",
      "INFO:__main__:Generating features for add_to_cart event type\n",
      "INFO:__main__:Loading data...\n",
      "INFO:__main__:Generating features...\n",
      "100%|█████████████████████████████████| 496756/496756 [03:09<00:00, 2615.05it/s]\n",
      "INFO:__main__:Generating features for remove_from_cart event type\n",
      "INFO:__main__:Loading data...\n",
      "INFO:__main__:Generating features...\n",
      "100%|█████████████████████████████████| 253428/253428 [01:35<00:00, 2663.20it/s]\n",
      "INFO:__main__:Generating features for page_visit event type\n",
      "INFO:__main__:Loading data...\n",
      "INFO:__main__:Generating features...\n",
      "100%|█████████████████████████████████| 720247/720247 [04:13<00:00, 2839.07it/s]\n",
      "INFO:__main__:Generating features for search_query event type\n",
      "INFO:__main__:Loading data...\n",
      "INFO:__main__:Generating features...\n",
      "100%|█████████████████████████████████| 247597/247597 [00:39<00:00, 6222.38it/s]\n",
      "INFO:__main__:Merging features into embeddings\n",
      "100%|███████████████████████████████| 858489/858489 [00:04<00:00, 213587.82it/s]\n",
      "INFO:__main__:Saving embeddings\n"
     ]
    }
   ],
   "source": [
    "!cd groups/194.035-2025S/Group_36/Group_36/Rec-Sys-Challenge-Github-Repo/ && python -m baseline.aggregated_features_baseline.create_embeddings --data-dir /home/jovyan/shared/194.035-2025S/data/group_project/data --embeddings-dir /home/jovyan/groups/194.035-2025S/Group_36/Group_36/embeddings"
   ]
  },
  {
   "cell_type": "code",
   "execution_count": 2,
   "id": "5cddd41f",
   "metadata": {},
   "outputs": [
    {
     "name": "stdout",
     "output_type": "stream",
     "text": [
      "ERROR: ld.so: object '/opt/conda/lib/libmkl_def.so' from LD_PRELOAD cannot be preloaded (cannot open shared object file): ignored.\n",
      "ERROR: ld.so: object '/opt/conda/lib/libmkl_avx2.so' from LD_PRELOAD cannot be preloaded (cannot open shared object file): ignored.\n",
      "ERROR: ld.so: object '/opt/conda/lib/libmkl_core.so' from LD_PRELOAD cannot be preloaded (cannot open shared object file): ignored.\n",
      "ERROR: ld.so: object '/opt/conda/lib/libmkl_intel_lp64.so' from LD_PRELOAD cannot be preloaded (cannot open shared object file): ignored.\n",
      "ERROR: ld.so: object '/opt/conda/lib/libmkl_intel_thread.so' from LD_PRELOAD cannot be preloaded (cannot open shared object file): ignored.\n",
      "ERROR: ld.so: object '/opt/conda/lib/libmkl_def.so' from LD_PRELOAD cannot be preloaded (cannot open shared object file): ignored.\n",
      "ERROR: ld.so: object '/opt/conda/lib/libmkl_avx2.so' from LD_PRELOAD cannot be preloaded (cannot open shared object file): ignored.\n",
      "ERROR: ld.so: object '/opt/conda/lib/libmkl_core.so' from LD_PRELOAD cannot be preloaded (cannot open shared object file): ignored.\n",
      "ERROR: ld.so: object '/opt/conda/lib/libmkl_intel_lp64.so' from LD_PRELOAD cannot be preloaded (cannot open shared object file): ignored.\n",
      "ERROR: ld.so: object '/opt/conda/lib/libmkl_intel_thread.so' from LD_PRELOAD cannot be preloaded (cannot open shared object file): ignored.\n",
      "Collecting neptune>=1.0\n",
      "  Downloading neptune-1.14.0-py3-none-any.whl.metadata (5.0 kB)\n",
      "Requirement already satisfied: GitPython>=2.0.8 in /opt/conda/lib/python3.11/site-packages (from neptune>=1.0) (3.1.43)\n",
      "Requirement already satisfied: Pillow>=1.1.6 in /opt/conda/lib/python3.11/site-packages (from neptune>=1.0) (10.4.0)\n",
      "Requirement already satisfied: PyJWT in /opt/conda/lib/python3.11/site-packages (from neptune>=1.0) (2.9.0)\n",
      "Collecting boto3>=1.28.0 (from neptune>=1.0)\n",
      "  Downloading boto3-1.38.19-py3-none-any.whl.metadata (6.6 kB)\n",
      "Collecting bravado<12.0.0,>=11.0.0 (from neptune>=1.0)\n",
      "  Downloading bravado-11.1.0-py2.py3-none-any.whl.metadata (6.0 kB)\n",
      "Requirement already satisfied: click>=7.0 in /opt/conda/lib/python3.11/site-packages (from neptune>=1.0) (8.1.7)\n",
      "Requirement already satisfied: future>=0.17.1 in /opt/conda/lib/python3.11/site-packages (from neptune>=1.0) (1.0.0)\n",
      "Requirement already satisfied: oauthlib>=2.1.0 in /opt/conda/lib/python3.11/site-packages (from neptune>=1.0) (3.2.2)\n",
      "Requirement already satisfied: packaging in /opt/conda/lib/python3.11/site-packages (from neptune>=1.0) (24.2)\n",
      "Requirement already satisfied: pandas in /opt/conda/lib/python3.11/site-packages (from neptune>=1.0) (2.2.3)\n",
      "Requirement already satisfied: psutil in /opt/conda/lib/python3.11/site-packages (from neptune>=1.0) (5.9.8)\n",
      "Requirement already satisfied: requests>=2.20.0 in /opt/conda/lib/python3.11/site-packages (from neptune>=1.0) (2.32.3)\n",
      "Requirement already satisfied: requests-oauthlib>=1.0.0 in /opt/conda/lib/python3.11/site-packages (from neptune>=1.0) (2.0.0)\n",
      "Requirement already satisfied: six>=1.12.0 in /opt/conda/lib/python3.11/site-packages (from neptune>=1.0) (1.16.0)\n",
      "Collecting swagger-spec-validator>=2.7.4 (from neptune>=1.0)\n",
      "  Downloading swagger_spec_validator-3.0.4-py2.py3-none-any.whl.metadata (2.5 kB)\n",
      "Requirement already satisfied: typing-extensions>=3.10.0 in /opt/conda/lib/python3.11/site-packages (from neptune>=1.0) (4.12.2)\n",
      "Requirement already satisfied: urllib3 in /opt/conda/lib/python3.11/site-packages (from neptune>=1.0) (2.2.3)\n",
      "Requirement already satisfied: websocket-client!=1.0.0,>=0.35.0 in /opt/conda/lib/python3.11/site-packages (from neptune>=1.0) (1.8.0)\n",
      "Collecting botocore<1.39.0,>=1.38.19 (from boto3>=1.28.0->neptune>=1.0)\n",
      "  Downloading botocore-1.38.19-py3-none-any.whl.metadata (5.7 kB)\n",
      "Collecting jmespath<2.0.0,>=0.7.1 (from boto3>=1.28.0->neptune>=1.0)\n",
      "  Downloading jmespath-1.0.1-py3-none-any.whl.metadata (7.6 kB)\n",
      "Collecting s3transfer<0.13.0,>=0.12.0 (from boto3>=1.28.0->neptune>=1.0)\n",
      "  Downloading s3transfer-0.12.0-py3-none-any.whl.metadata (1.7 kB)\n",
      "Collecting bravado-core>=5.16.1 (from bravado<12.0.0,>=11.0.0->neptune>=1.0)\n",
      "  Downloading bravado-core-6.1.1.tar.gz (63 kB)\n",
      "  Preparing metadata (setup.py) ... \u001b[?25ldone\n",
      "\u001b[?25hCollecting monotonic (from bravado<12.0.0,>=11.0.0->neptune>=1.0)\n",
      "  Downloading monotonic-1.6-py2.py3-none-any.whl.metadata (1.5 kB)\n",
      "Requirement already satisfied: msgpack in /opt/conda/lib/python3.11/site-packages (from bravado<12.0.0,>=11.0.0->neptune>=1.0) (1.1.0)\n",
      "Requirement already satisfied: python-dateutil in /opt/conda/lib/python3.11/site-packages (from bravado<12.0.0,>=11.0.0->neptune>=1.0) (2.9.0)\n",
      "Requirement already satisfied: pyyaml in /opt/conda/lib/python3.11/site-packages (from bravado<12.0.0,>=11.0.0->neptune>=1.0) (6.0.2)\n",
      "Requirement already satisfied: simplejson in /opt/conda/lib/python3.11/site-packages (from bravado<12.0.0,>=11.0.0->neptune>=1.0) (3.20.1)\n",
      "Requirement already satisfied: gitdb<5,>=4.0.1 in /opt/conda/lib/python3.11/site-packages (from GitPython>=2.0.8->neptune>=1.0) (4.0.11)\n",
      "Requirement already satisfied: charset-normalizer<4,>=2 in /opt/conda/lib/python3.11/site-packages (from requests>=2.20.0->neptune>=1.0) (3.4.0)\n",
      "Requirement already satisfied: idna<4,>=2.5 in /opt/conda/lib/python3.11/site-packages (from requests>=2.20.0->neptune>=1.0) (3.10)\n",
      "Requirement already satisfied: certifi>=2017.4.17 in /opt/conda/lib/python3.11/site-packages (from requests>=2.20.0->neptune>=1.0) (2025.1.31)\n",
      "Requirement already satisfied: jsonschema in /opt/conda/lib/python3.11/site-packages (from swagger-spec-validator>=2.7.4->neptune>=1.0) (4.23.0)\n",
      "Requirement already satisfied: importlib-resources>=1.3 in /opt/conda/lib/python3.11/site-packages (from swagger-spec-validator>=2.7.4->neptune>=1.0) (6.4.5)\n",
      "Requirement already satisfied: numpy>=1.23.2 in /opt/conda/lib/python3.11/site-packages (from pandas->neptune>=1.0) (1.26.4)\n",
      "Requirement already satisfied: pytz>=2020.1 in /opt/conda/lib/python3.11/site-packages (from pandas->neptune>=1.0) (2024.1)\n",
      "Requirement already satisfied: tzdata>=2022.7 in /opt/conda/lib/python3.11/site-packages (from pandas->neptune>=1.0) (2025.2)\n",
      "Collecting jsonref (from bravado-core>=5.16.1->bravado<12.0.0,>=11.0.0->neptune>=1.0)\n",
      "  Downloading jsonref-1.1.0-py3-none-any.whl.metadata (2.7 kB)\n",
      "Requirement already satisfied: smmap<6,>=3.0.1 in /opt/conda/lib/python3.11/site-packages (from gitdb<5,>=4.0.1->GitPython>=2.0.8->neptune>=1.0) (5.0.0)\n",
      "Requirement already satisfied: attrs>=22.2.0 in /opt/conda/lib/python3.11/site-packages (from jsonschema->swagger-spec-validator>=2.7.4->neptune>=1.0) (24.2.0)\n",
      "Requirement already satisfied: jsonschema-specifications>=2023.03.6 in /opt/conda/lib/python3.11/site-packages (from jsonschema->swagger-spec-validator>=2.7.4->neptune>=1.0) (2024.10.1)\n",
      "Requirement already satisfied: referencing>=0.28.4 in /opt/conda/lib/python3.11/site-packages (from jsonschema->swagger-spec-validator>=2.7.4->neptune>=1.0) (0.35.1)\n",
      "Requirement already satisfied: rpds-py>=0.7.1 in /opt/conda/lib/python3.11/site-packages (from jsonschema->swagger-spec-validator>=2.7.4->neptune>=1.0) (0.20.0)\n",
      "Requirement already satisfied: fqdn in /opt/conda/lib/python3.11/site-packages (from jsonschema[format-nongpl]>=2.5.1->bravado-core>=5.16.1->bravado<12.0.0,>=11.0.0->neptune>=1.0) (1.5.1)\n",
      "Requirement already satisfied: isoduration in /opt/conda/lib/python3.11/site-packages (from jsonschema[format-nongpl]>=2.5.1->bravado-core>=5.16.1->bravado<12.0.0,>=11.0.0->neptune>=1.0) (20.11.0)\n",
      "Requirement already satisfied: jsonpointer>1.13 in /opt/conda/lib/python3.11/site-packages (from jsonschema[format-nongpl]>=2.5.1->bravado-core>=5.16.1->bravado<12.0.0,>=11.0.0->neptune>=1.0) (3.0.0)\n",
      "Requirement already satisfied: rfc3339-validator in /opt/conda/lib/python3.11/site-packages (from jsonschema[format-nongpl]>=2.5.1->bravado-core>=5.16.1->bravado<12.0.0,>=11.0.0->neptune>=1.0) (0.1.4)\n",
      "Requirement already satisfied: rfc3986-validator>0.1.0 in /opt/conda/lib/python3.11/site-packages (from jsonschema[format-nongpl]>=2.5.1->bravado-core>=5.16.1->bravado<12.0.0,>=11.0.0->neptune>=1.0) (0.1.1)\n",
      "Requirement already satisfied: uri-template in /opt/conda/lib/python3.11/site-packages (from jsonschema[format-nongpl]>=2.5.1->bravado-core>=5.16.1->bravado<12.0.0,>=11.0.0->neptune>=1.0) (1.3.0)\n",
      "Requirement already satisfied: webcolors>=24.6.0 in /opt/conda/lib/python3.11/site-packages (from jsonschema[format-nongpl]>=2.5.1->bravado-core>=5.16.1->bravado<12.0.0,>=11.0.0->neptune>=1.0) (24.8.0)\n",
      "Requirement already satisfied: arrow>=0.15.0 in /opt/conda/lib/python3.11/site-packages (from isoduration->jsonschema[format-nongpl]>=2.5.1->bravado-core>=5.16.1->bravado<12.0.0,>=11.0.0->neptune>=1.0) (1.3.0)\n",
      "Requirement already satisfied: types-python-dateutil>=2.8.10 in /opt/conda/lib/python3.11/site-packages (from arrow>=0.15.0->isoduration->jsonschema[format-nongpl]>=2.5.1->bravado-core>=5.16.1->bravado<12.0.0,>=11.0.0->neptune>=1.0) (2.9.0.20241003)\n",
      "Downloading neptune-1.14.0-py3-none-any.whl (487 kB)\n",
      "Downloading boto3-1.38.19-py3-none-any.whl (139 kB)\n",
      "Downloading bravado-11.1.0-py2.py3-none-any.whl (37 kB)\n",
      "Downloading swagger_spec_validator-3.0.4-py2.py3-none-any.whl (28 kB)\n",
      "Downloading botocore-1.38.19-py3-none-any.whl (13.6 MB)\n",
      "\u001b[2K   \u001b[90m━━━━━━━━━━━━━━━━━━━━━━━━━━━━━━━━━━━━━━━━\u001b[0m \u001b[32m13.6/13.6 MB\u001b[0m \u001b[31m87.8 MB/s\u001b[0m eta \u001b[36m0:00:00\u001b[0m\n",
      "\u001b[?25hDownloading jmespath-1.0.1-py3-none-any.whl (20 kB)\n",
      "Downloading s3transfer-0.12.0-py3-none-any.whl (84 kB)\n",
      "Downloading monotonic-1.6-py2.py3-none-any.whl (8.2 kB)\n",
      "Downloading jsonref-1.1.0-py3-none-any.whl (9.4 kB)\n",
      "Building wheels for collected packages: bravado-core\n",
      "  Building wheel for bravado-core (setup.py) ... \u001b[?25ldone\n",
      "\u001b[?25h  Created wheel for bravado-core: filename=bravado_core-6.1.1-py2.py3-none-any.whl size=67675 sha256=50ca31c22afd9bfb84848fbadedca43f643813d3ca39e08b1ce1c2ff90c551d8\n",
      "  Stored in directory: /home/jovyan/.cache/pip/wheels/cf/d7/1c/1d707a21e0a0323bdbfbb2f6de125ae6bb70d62aa2838df321\n",
      "Successfully built bravado-core\n",
      "Installing collected packages: monotonic, jsonref, jmespath, botocore, s3transfer, swagger-spec-validator, boto3, bravado-core, bravado, neptune\n",
      "Successfully installed boto3-1.38.19 botocore-1.38.19 bravado-11.1.0 bravado-core-6.1.1 jmespath-1.0.1 jsonref-1.1.0 monotonic-1.6 neptune-1.14.0 s3transfer-0.12.0 swagger-spec-validator-3.0.4\n"
     ]
    }
   ],
   "source": [
    "!pip install -U 'neptune>=1.0'"
   ]
  },
  {
   "cell_type": "code",
   "execution_count": null,
   "id": "d490e0f7",
   "metadata": {},
   "outputs": [
    {
     "name": "stdout",
     "output_type": "stream",
     "text": [
      "ERROR: ld.so: object '/opt/conda/lib/libmkl_def.so' from LD_PRELOAD cannot be preloaded (cannot open shared object file): ignored.\n",
      "ERROR: ld.so: object '/opt/conda/lib/libmkl_avx2.so' from LD_PRELOAD cannot be preloaded (cannot open shared object file): ignored.\n",
      "ERROR: ld.so: object '/opt/conda/lib/libmkl_core.so' from LD_PRELOAD cannot be preloaded (cannot open shared object file): ignored.\n",
      "ERROR: ld.so: object '/opt/conda/lib/libmkl_intel_lp64.so' from LD_PRELOAD cannot be preloaded (cannot open shared object file): ignored.\n",
      "ERROR: ld.so: object '/opt/conda/lib/libmkl_intel_thread.so' from LD_PRELOAD cannot be preloaded (cannot open shared object file): ignored.\n",
      "ERROR: ld.so: object '/opt/conda/lib/libmkl_def.so' from LD_PRELOAD cannot be preloaded (cannot open shared object file): ignored.\n",
      "ERROR: ld.so: object '/opt/conda/lib/libmkl_avx2.so' from LD_PRELOAD cannot be preloaded (cannot open shared object file): ignored.\n",
      "ERROR: ld.so: object '/opt/conda/lib/libmkl_core.so' from LD_PRELOAD cannot be preloaded (cannot open shared object file): ignored.\n",
      "ERROR: ld.so: object '/opt/conda/lib/libmkl_intel_lp64.so' from LD_PRELOAD cannot be preloaded (cannot open shared object file): ignored.\n",
      "ERROR: ld.so: object '/opt/conda/lib/libmkl_intel_thread.so' from LD_PRELOAD cannot be preloaded (cannot open shared object file): ignored.\n",
      "WARNING:training_pipeline.logger_factory:No Neptune project is specified, loggin offline. To specify Neptune project, add command line argument --neptune-project workspace/project\n",
      "INFO:validator.utils:client ids loaded\n",
      "INFO:validator.utils:embeddings loaded\n",
      "WARNING:validator.embeddings_validator:Validator will not check if the content of client_ids.npy matches with the list of relevant clients. Embeddings may not conform to competition format.\n",
      "INFO:validator.utils:client ids are valid\n",
      "INFO:validator.utils:embeddings are valid\n",
      "INFO:validator.utils:embeddings and client ids have the same length\n",
      "INFO:validator.validate:Validator checks passed\n"
     ]
    }
   ],
   "source": [
    "!cd /home/jovyan/groups/194.035-2025S/Group_36/Group_36/Rec-Sys-Challenge-Github-Repo/ && python -m training_pipeline.train --data-dir /home/jovyan/shared/194.035-2025S/data/group_project/data --embeddings-dir /home/jovyan/groups/194.035-2025S/Group_36/Group_36/embeddings --tasks churn propensity_category propensity_sku --log-name exp_20250401 --accelerator gpu --devices auto --disable-relevant-clients-check"
   ]
  }
 ],
 "metadata": {
  "kernelspec": {
   "display_name": "Python 3",
   "language": "python",
   "name": "python3"
  }
 },
 "nbformat": 4,
 "nbformat_minor": 5
}
