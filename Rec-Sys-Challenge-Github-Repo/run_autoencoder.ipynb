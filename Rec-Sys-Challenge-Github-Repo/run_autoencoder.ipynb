{
 "cells": [
  {
   "cell_type": "code",
   "execution_count": 1,
   "id": "6036941f-69e9-4b79-90d4-4a5dd8770965",
   "metadata": {
    "editable": true,
    "slideshow": {
     "slide_type": ""
    },
    "tags": []
   },
   "outputs": [],
   "source": [
    "import autoencoder_pipeline\n"
   ]
  },
  {
   "cell_type": "code",
   "execution_count": null,
   "id": "f05238c1-ae66-4c15-ac17-43ecfd122593",
   "metadata": {
    "editable": true,
    "slideshow": {
     "slide_type": ""
    },
    "tags": []
   },
   "outputs": [
    {
     "name": "stdout",
     "output_type": "stream",
     "text": [
      "\n",
      " Loading and pre-processing data...\n",
      "USING INPUT DATA FOLDER: /home/jovyan/shared/194.035-2025S/data/group_project/data_new/\n",
      "USING CLIENT IDS PATH: /home/jovyan/shared/194.035-2025S/data/group_project/data_new/input/relevant_clients.npy\n",
      "  - Loading product_buy.parquet...\n",
      "  - Loading add_to_cart.parquet...\n",
      "  - Loading search_query.parquet...\n",
      "  - Loading page_visit.parquet...\n",
      "  - Merged product properties with buy and cart events.\n",
      "\n",
      " Aggregating features\n",
      "  - generating features for event type: product_buy...\n"
     ]
    },
    {
     "name": "stderr",
     "output_type": "stream",
     "text": [
      "  0%|          | 1129/510971 [00:05<40:38, 209.11it/s]"
     ]
    }
   ],
   "source": [
    "autoencoder_pipeline.main()"
   ]
  },
  {
   "cell_type": "code",
   "execution_count": 3,
   "id": "33c95247-ba56-452c-af32-dc34d9ae1502",
   "metadata": {
    "editable": true,
    "slideshow": {
     "slide_type": ""
    },
    "tags": []
   },
   "outputs": [],
   "source": [
    "import os\n",
    "import numpy as np"
   ]
  },
  {
   "cell_type": "code",
   "execution_count": 4,
   "id": "7a74d830-7acb-4c79-9ca1-20f59a026c89",
   "metadata": {},
   "outputs": [],
   "source": [
    "DATA_DIR = \"/home/jovyan/groups/194.035-2025S/Group_36/Group_36/data/\"\n",
    "CLIENT_IDS_PATH = os.path.join(DATA_DIR, \"input/relevant_clients.npy\") "
   ]
  },
  {
   "cell_type": "code",
   "execution_count": 5,
   "id": "a93b9624-e88e-4661-a91f-7f167aab86b8",
   "metadata": {},
   "outputs": [
    {
     "name": "stdout",
     "output_type": "stream",
     "text": [
      "/home/jovyan/groups/194.035-2025S/Group_36/Group_36/data/input/relevant_clients.npy\n"
     ]
    }
   ],
   "source": [
    "print(CLIENT_IDS_PATH)"
   ]
  },
  {
   "cell_type": "code",
   "execution_count": 6,
   "id": "2358f14f-b638-42f4-8728-2b30629b6eb2",
   "metadata": {},
   "outputs": [
    {
     "ename": "NameError",
     "evalue": "name 'pd' is not defined",
     "output_type": "error",
     "traceback": [
      "\u001b[0;31m---------------------------------------------------------------------------\u001b[0m",
      "\u001b[0;31mNameError\u001b[0m                                 Traceback (most recent call last)",
      "Cell \u001b[0;32mIn[6], line 3\u001b[0m\n\u001b[1;32m      1\u001b[0m relevant_client_ids \u001b[38;5;241m=\u001b[39m np\u001b[38;5;241m.\u001b[39mload(CLIENT_IDS_PATH, allow_pickle\u001b[38;5;241m=\u001b[39m\u001b[38;5;28;01mTrue\u001b[39;00m)\n\u001b[0;32m----> 3\u001b[0m product_properties_df \u001b[38;5;241m=\u001b[39m \u001b[43mpd\u001b[49m\u001b[38;5;241m.\u001b[39mread_parquet(os\u001b[38;5;241m.\u001b[39mpath\u001b[38;5;241m.\u001b[39mjoin(DATA_DIR, \u001b[38;5;124m\"\u001b[39m\u001b[38;5;124mproduct_properties.parquet\u001b[39m\u001b[38;5;124m\"\u001b[39m))\n",
      "\u001b[0;31mNameError\u001b[0m: name 'pd' is not defined"
     ]
    }
   ],
   "source": [
    "relevant_client_ids = np.load(CLIENT_IDS_PATH, allow_pickle=True)\n",
    "    \n",
    "product_properties_df = pd.read_parquet(os.path.join(DATA_DIR, \"product_properties.parquet\"))"
   ]
  },
  {
   "cell_type": "code",
   "execution_count": 3,
   "id": "f9934d3e-931c-4a02-bfb3-27f8b717f477",
   "metadata": {},
   "outputs": [
    {
     "name": "stdout",
     "output_type": "stream",
     "text": [
      "ERROR: ld.so: object '/opt/conda/lib/libmkl_def.so' from LD_PRELOAD cannot be preloaded (cannot open shared object file): ignored.\n",
      "ERROR: ld.so: object '/opt/conda/lib/libmkl_avx2.so' from LD_PRELOAD cannot be preloaded (cannot open shared object file): ignored.\n",
      "ERROR: ld.so: object '/opt/conda/lib/libmkl_core.so' from LD_PRELOAD cannot be preloaded (cannot open shared object file): ignored.\n",
      "ERROR: ld.so: object '/opt/conda/lib/libmkl_intel_lp64.so' from LD_PRELOAD cannot be preloaded (cannot open shared object file): ignored.\n",
      "ERROR: ld.so: object '/opt/conda/lib/libmkl_intel_thread.so' from LD_PRELOAD cannot be preloaded (cannot open shared object file): ignored.\n",
      "ERROR: ld.so: object '/opt/conda/lib/libmkl_def.so' from LD_PRELOAD cannot be preloaded (cannot open shared object file): ignored.\n",
      "ERROR: ld.so: object '/opt/conda/lib/libmkl_avx2.so' from LD_PRELOAD cannot be preloaded (cannot open shared object file): ignored.\n",
      "ERROR: ld.so: object '/opt/conda/lib/libmkl_core.so' from LD_PRELOAD cannot be preloaded (cannot open shared object file): ignored.\n",
      "ERROR: ld.so: object '/opt/conda/lib/libmkl_intel_lp64.so' from LD_PRELOAD cannot be preloaded (cannot open shared object file): ignored.\n",
      "ERROR: ld.so: object '/opt/conda/lib/libmkl_intel_thread.so' from LD_PRELOAD cannot be preloaded (cannot open shared object file): ignored.\n",
      "Collecting neptune>=1.0\n",
      "  Using cached neptune-1.14.0-py3-none-any.whl.metadata (5.0 kB)\n",
      "Requirement already satisfied: GitPython>=2.0.8 in /opt/conda/lib/python3.11/site-packages (from neptune>=1.0) (3.1.43)\n",
      "Requirement already satisfied: Pillow>=1.1.6 in /opt/conda/lib/python3.11/site-packages (from neptune>=1.0) (10.4.0)\n",
      "Requirement already satisfied: PyJWT in /opt/conda/lib/python3.11/site-packages (from neptune>=1.0) (2.9.0)\n",
      "Collecting boto3>=1.28.0 (from neptune>=1.0)\n",
      "  Using cached boto3-1.38.36-py3-none-any.whl.metadata (6.6 kB)\n",
      "Collecting bravado<12.0.0,>=11.0.0 (from neptune>=1.0)\n",
      "  Using cached bravado-11.1.0-py2.py3-none-any.whl.metadata (6.0 kB)\n",
      "Requirement already satisfied: click>=7.0 in /opt/conda/lib/python3.11/site-packages (from neptune>=1.0) (8.1.7)\n",
      "Requirement already satisfied: future>=0.17.1 in /opt/conda/lib/python3.11/site-packages (from neptune>=1.0) (1.0.0)\n",
      "Requirement already satisfied: oauthlib>=2.1.0 in /opt/conda/lib/python3.11/site-packages (from neptune>=1.0) (3.2.2)\n",
      "Requirement already satisfied: packaging in /opt/conda/lib/python3.11/site-packages (from neptune>=1.0) (24.2)\n",
      "Requirement already satisfied: pandas in /opt/conda/lib/python3.11/site-packages (from neptune>=1.0) (2.2.3)\n",
      "Requirement already satisfied: psutil in /opt/conda/lib/python3.11/site-packages (from neptune>=1.0) (5.9.8)\n",
      "Requirement already satisfied: requests>=2.20.0 in /opt/conda/lib/python3.11/site-packages (from neptune>=1.0) (2.32.3)\n",
      "Requirement already satisfied: requests-oauthlib>=1.0.0 in /opt/conda/lib/python3.11/site-packages (from neptune>=1.0) (2.0.0)\n",
      "Requirement already satisfied: six>=1.12.0 in /opt/conda/lib/python3.11/site-packages (from neptune>=1.0) (1.16.0)\n",
      "Collecting swagger-spec-validator>=2.7.4 (from neptune>=1.0)\n",
      "  Using cached swagger_spec_validator-3.0.4-py2.py3-none-any.whl.metadata (2.5 kB)\n",
      "Requirement already satisfied: typing-extensions>=3.10.0 in /opt/conda/lib/python3.11/site-packages (from neptune>=1.0) (4.12.2)\n",
      "Requirement already satisfied: urllib3 in /opt/conda/lib/python3.11/site-packages (from neptune>=1.0) (2.2.3)\n",
      "Requirement already satisfied: websocket-client!=1.0.0,>=0.35.0 in /opt/conda/lib/python3.11/site-packages (from neptune>=1.0) (1.8.0)\n",
      "Collecting botocore<1.39.0,>=1.38.36 (from boto3>=1.28.0->neptune>=1.0)\n",
      "  Using cached botocore-1.38.36-py3-none-any.whl.metadata (5.7 kB)\n",
      "Collecting jmespath<2.0.0,>=0.7.1 (from boto3>=1.28.0->neptune>=1.0)\n",
      "  Using cached jmespath-1.0.1-py3-none-any.whl.metadata (7.6 kB)\n",
      "Collecting s3transfer<0.14.0,>=0.13.0 (from boto3>=1.28.0->neptune>=1.0)\n",
      "  Using cached s3transfer-0.13.0-py3-none-any.whl.metadata (1.7 kB)\n",
      "Collecting bravado-core>=5.16.1 (from bravado<12.0.0,>=11.0.0->neptune>=1.0)\n",
      "  Using cached bravado_core-6.1.1-py2.py3-none-any.whl\n",
      "Collecting monotonic (from bravado<12.0.0,>=11.0.0->neptune>=1.0)\n",
      "  Using cached monotonic-1.6-py2.py3-none-any.whl.metadata (1.5 kB)\n",
      "Requirement already satisfied: msgpack in /opt/conda/lib/python3.11/site-packages (from bravado<12.0.0,>=11.0.0->neptune>=1.0) (1.1.0)\n",
      "Requirement already satisfied: python-dateutil in /opt/conda/lib/python3.11/site-packages (from bravado<12.0.0,>=11.0.0->neptune>=1.0) (2.9.0)\n",
      "Requirement already satisfied: pyyaml in /opt/conda/lib/python3.11/site-packages (from bravado<12.0.0,>=11.0.0->neptune>=1.0) (6.0.2)\n",
      "Requirement already satisfied: simplejson in /opt/conda/lib/python3.11/site-packages (from bravado<12.0.0,>=11.0.0->neptune>=1.0) (3.20.1)\n",
      "Requirement already satisfied: gitdb<5,>=4.0.1 in /opt/conda/lib/python3.11/site-packages (from GitPython>=2.0.8->neptune>=1.0) (4.0.11)\n",
      "Requirement already satisfied: charset-normalizer<4,>=2 in /opt/conda/lib/python3.11/site-packages (from requests>=2.20.0->neptune>=1.0) (3.4.0)\n",
      "Requirement already satisfied: idna<4,>=2.5 in /opt/conda/lib/python3.11/site-packages (from requests>=2.20.0->neptune>=1.0) (3.10)\n",
      "Requirement already satisfied: certifi>=2017.4.17 in /opt/conda/lib/python3.11/site-packages (from requests>=2.20.0->neptune>=1.0) (2025.1.31)\n",
      "Requirement already satisfied: jsonschema in /opt/conda/lib/python3.11/site-packages (from swagger-spec-validator>=2.7.4->neptune>=1.0) (4.23.0)\n",
      "Requirement already satisfied: importlib-resources>=1.3 in /opt/conda/lib/python3.11/site-packages (from swagger-spec-validator>=2.7.4->neptune>=1.0) (6.4.5)\n",
      "Requirement already satisfied: numpy>=1.23.2 in /opt/conda/lib/python3.11/site-packages (from pandas->neptune>=1.0) (1.26.4)\n",
      "Requirement already satisfied: pytz>=2020.1 in /opt/conda/lib/python3.11/site-packages (from pandas->neptune>=1.0) (2024.1)\n",
      "Requirement already satisfied: tzdata>=2022.7 in /opt/conda/lib/python3.11/site-packages (from pandas->neptune>=1.0) (2025.2)\n",
      "Collecting jsonref (from bravado-core>=5.16.1->bravado<12.0.0,>=11.0.0->neptune>=1.0)\n",
      "  Using cached jsonref-1.1.0-py3-none-any.whl.metadata (2.7 kB)\n",
      "Requirement already satisfied: smmap<6,>=3.0.1 in /opt/conda/lib/python3.11/site-packages (from gitdb<5,>=4.0.1->GitPython>=2.0.8->neptune>=1.0) (5.0.0)\n",
      "Requirement already satisfied: attrs>=22.2.0 in /opt/conda/lib/python3.11/site-packages (from jsonschema->swagger-spec-validator>=2.7.4->neptune>=1.0) (24.2.0)\n",
      "Requirement already satisfied: jsonschema-specifications>=2023.03.6 in /opt/conda/lib/python3.11/site-packages (from jsonschema->swagger-spec-validator>=2.7.4->neptune>=1.0) (2024.10.1)\n",
      "Requirement already satisfied: referencing>=0.28.4 in /opt/conda/lib/python3.11/site-packages (from jsonschema->swagger-spec-validator>=2.7.4->neptune>=1.0) (0.35.1)\n",
      "Requirement already satisfied: rpds-py>=0.7.1 in /opt/conda/lib/python3.11/site-packages (from jsonschema->swagger-spec-validator>=2.7.4->neptune>=1.0) (0.20.0)\n",
      "Requirement already satisfied: fqdn in /opt/conda/lib/python3.11/site-packages (from jsonschema[format-nongpl]>=2.5.1->bravado-core>=5.16.1->bravado<12.0.0,>=11.0.0->neptune>=1.0) (1.5.1)\n",
      "Requirement already satisfied: isoduration in /opt/conda/lib/python3.11/site-packages (from jsonschema[format-nongpl]>=2.5.1->bravado-core>=5.16.1->bravado<12.0.0,>=11.0.0->neptune>=1.0) (20.11.0)\n",
      "Requirement already satisfied: jsonpointer>1.13 in /opt/conda/lib/python3.11/site-packages (from jsonschema[format-nongpl]>=2.5.1->bravado-core>=5.16.1->bravado<12.0.0,>=11.0.0->neptune>=1.0) (3.0.0)\n",
      "Requirement already satisfied: rfc3339-validator in /opt/conda/lib/python3.11/site-packages (from jsonschema[format-nongpl]>=2.5.1->bravado-core>=5.16.1->bravado<12.0.0,>=11.0.0->neptune>=1.0) (0.1.4)\n",
      "Requirement already satisfied: rfc3986-validator>0.1.0 in /opt/conda/lib/python3.11/site-packages (from jsonschema[format-nongpl]>=2.5.1->bravado-core>=5.16.1->bravado<12.0.0,>=11.0.0->neptune>=1.0) (0.1.1)\n",
      "Requirement already satisfied: uri-template in /opt/conda/lib/python3.11/site-packages (from jsonschema[format-nongpl]>=2.5.1->bravado-core>=5.16.1->bravado<12.0.0,>=11.0.0->neptune>=1.0) (1.3.0)\n",
      "Requirement already satisfied: webcolors>=24.6.0 in /opt/conda/lib/python3.11/site-packages (from jsonschema[format-nongpl]>=2.5.1->bravado-core>=5.16.1->bravado<12.0.0,>=11.0.0->neptune>=1.0) (24.8.0)\n",
      "Requirement already satisfied: arrow>=0.15.0 in /opt/conda/lib/python3.11/site-packages (from isoduration->jsonschema[format-nongpl]>=2.5.1->bravado-core>=5.16.1->bravado<12.0.0,>=11.0.0->neptune>=1.0) (1.3.0)\n",
      "Requirement already satisfied: types-python-dateutil>=2.8.10 in /opt/conda/lib/python3.11/site-packages (from arrow>=0.15.0->isoduration->jsonschema[format-nongpl]>=2.5.1->bravado-core>=5.16.1->bravado<12.0.0,>=11.0.0->neptune>=1.0) (2.9.0.20241003)\n",
      "Using cached neptune-1.14.0-py3-none-any.whl (487 kB)\n",
      "Using cached boto3-1.38.36-py3-none-any.whl (139 kB)\n",
      "Using cached bravado-11.1.0-py2.py3-none-any.whl (37 kB)\n",
      "Using cached swagger_spec_validator-3.0.4-py2.py3-none-any.whl (28 kB)\n",
      "Using cached botocore-1.38.36-py3-none-any.whl (13.6 MB)\n",
      "Using cached jmespath-1.0.1-py3-none-any.whl (20 kB)\n",
      "Using cached s3transfer-0.13.0-py3-none-any.whl (85 kB)\n",
      "Using cached monotonic-1.6-py2.py3-none-any.whl (8.2 kB)\n",
      "Using cached jsonref-1.1.0-py3-none-any.whl (9.4 kB)\n",
      "Installing collected packages: monotonic, jsonref, jmespath, botocore, s3transfer, swagger-spec-validator, boto3, bravado-core, bravado, neptune\n",
      "Successfully installed boto3-1.38.36 botocore-1.38.36 bravado-11.1.0 bravado-core-6.1.1 jmespath-1.0.1 jsonref-1.1.0 monotonic-1.6 neptune-1.14.0 s3transfer-0.13.0 swagger-spec-validator-3.0.4\n"
     ]
    }
   ],
   "source": [
    "!pip install -U 'neptune>=1.0'"
   ]
  },
  {
   "cell_type": "code",
   "execution_count": 8,
   "id": "3ac35db2-e9b6-46a2-bcce-53105949249b",
   "metadata": {
    "editable": true,
    "slideshow": {
     "slide_type": ""
    },
    "tags": []
   },
   "outputs": [
    {
     "name": "stdout",
     "output_type": "stream",
     "text": [
      "ERROR: ld.so: object '/opt/conda/lib/libmkl_def.so' from LD_PRELOAD cannot be preloaded (cannot open shared object file): ignored.\n",
      "ERROR: ld.so: object '/opt/conda/lib/libmkl_avx2.so' from LD_PRELOAD cannot be preloaded (cannot open shared object file): ignored.\n",
      "ERROR: ld.so: object '/opt/conda/lib/libmkl_core.so' from LD_PRELOAD cannot be preloaded (cannot open shared object file): ignored.\n",
      "ERROR: ld.so: object '/opt/conda/lib/libmkl_intel_lp64.so' from LD_PRELOAD cannot be preloaded (cannot open shared object file): ignored.\n",
      "ERROR: ld.so: object '/opt/conda/lib/libmkl_intel_thread.so' from LD_PRELOAD cannot be preloaded (cannot open shared object file): ignored.\n",
      "/home/jovyan/repo_checkout/Group_36/Rec-Sys-Challenge-Github-Repo\n"
     ]
    }
   ],
   "source": [
    "!pwd"
   ]
  },
  {
   "cell_type": "code",
   "execution_count": 15,
   "id": "592f81b9-3710-4476-896e-2b692391ccb9",
   "metadata": {
    "editable": true,
    "slideshow": {
     "slide_type": ""
    },
    "tags": []
   },
   "outputs": [
    {
     "ename": "SyntaxError",
     "evalue": "invalid decimal literal (1220938962.py, line 1)",
     "output_type": "error",
     "traceback": [
      "\u001b[0;36m  Cell \u001b[0;32mIn[15], line 1\u001b[0;36m\u001b[0m\n\u001b[0;31m    python -m training_pipeline.train --data-dir /home/jovyan/shared/194.035-2025S/data/group_project/data --embeddings-dir /home/jovyan/repo_checkout/Group_36/Rec-Sys-Challenge-Github-Repo/output --tasks churn propensity_category propensity_sku --log-name exp_20250401 --accelerator gpu --devices auto --disable-relevant-clients\u001b[0m\n\u001b[0m                                                                                ^\u001b[0m\n\u001b[0;31mSyntaxError\u001b[0m\u001b[0;31m:\u001b[0m invalid decimal literal\n"
     ]
    }
   ],
   "source": [
    "python -m training_pipeline.train --data-dir /home/jovyan/shared/194.035-2025S/data/group_project/data_new --embeddings-dir /home/jovyan/repo_checkout/Group_36/Rec-Sys-Challenge-Github-Repo/output_new --tasks churn propensity_category propensity_sku --log-name exp_20250401 --accelerator gpu --devices auto --disable-relevant-clients-check --score-dir /home/jovyan/repo_checkout/Group_36/scores --neptune-project /home/jovyan/groups/194.035-2025S/Group_36/Group_36/neptune"
   ]
  },
  {
   "cell_type": "code",
   "execution_count": null,
   "id": "cdc0dc1b-af57-4ea6-a57a-2a4e38c6dfd6",
   "metadata": {
    "editable": true,
    "slideshow": {
     "slide_type": ""
    },
    "tags": []
   },
   "outputs": [],
   "source": [
    "python -m training_pipeline.train --data-dir /home/jovyan/shared/194.035-2025S/data/group_project/data --embeddings-dir /home/jovyan/groups/194.035-2025S/Group_36/Group_36/embeddings --tasks churn propensity_category propensity_sku --log-name exp_20250401 --accelerator gpu --devices auto --disable-relevant-clients\n",
    "-check --score-dir /home/jovyan/groups/194.035-2025S/Group_36/Group_36/scores --neptune-project /home/jovyan/groups/194.035-2025S/Group_36/Group_36/neptune"
   ]
  },
  {
   "cell_type": "code",
   "execution_count": 19,
   "id": "912a2ed8-97cb-4ec8-a391-3083bd70c092",
   "metadata": {
    "editable": true,
    "slideshow": {
     "slide_type": ""
    },
    "tags": []
   },
   "outputs": [
    {
     "ename": "ModuleNotFoundError",
     "evalue": "No module named 'get_client_ids'",
     "output_type": "error",
     "traceback": [
      "\u001b[0;31m---------------------------------------------------------------------------\u001b[0m",
      "\u001b[0;31mModuleNotFoundError\u001b[0m                       Traceback (most recent call last)",
      "Cell \u001b[0;32mIn[19], line 1\u001b[0m\n\u001b[0;32m----> 1\u001b[0m \u001b[38;5;28;01mimport\u001b[39;00m \u001b[38;5;21;01mget_client_ids\u001b[39;00m\n",
      "\u001b[0;31mModuleNotFoundError\u001b[0m: No module named 'get_client_ids'"
     ]
    }
   ],
   "source": [
    "import get_client_ids"
   ]
  }
 ],
 "metadata": {
  "kernelspec": {
   "display_name": "Python 3",
   "language": "python",
   "name": "python3"
  },
  "language_info": {
   "codemirror_mode": {
    "name": "ipython",
    "version": 3
   },
   "file_extension": ".py",
   "mimetype": "text/x-python",
   "name": "python",
   "nbconvert_exporter": "python",
   "pygments_lexer": "ipython3",
   "version": "3.11.10"
  }
 },
 "nbformat": 4,
 "nbformat_minor": 5
}
